{
 "cells": [
  {
   "cell_type": "code",
   "execution_count": 1,
   "metadata": {},
   "outputs": [],
   "source": [
    "import heeps"
   ]
  },
  {
   "cell_type": "code",
   "execution_count": 2,
   "metadata": {},
   "outputs": [
    {
     "name": "stdout",
     "output_type": "stream",
     "text": [
      "Update config: band=L, mode=RAVC\n",
      "‾‾‾‾‾‾‾‾‾‾‾‾‾‾\n",
      "   loading vortex back-propagation params\n",
      "   vc_charge=2, ngrid=1024, beam_ratio=0.2568\n",
      "   ravc_calc=False, ravc_t=0.7600, ravc_r=0.6200\n",
      "   npupil=285, pscale=5.47 mas, lam=3.8112E-06 m\n",
      "   ndet=365, hfov=1.0 arcsec (46.86 lam/D)\n",
      "\n",
      "Load pupil from 'ELT_pupil_1385.fits'\n",
      "   diam=36.91 m, resize to 285 pix, zero-pad to 1024 pix\n",
      "\n"
     ]
    }
   ],
   "source": [
    "conf = dict(\n",
    "    band = 'L',\n",
    "    mode = 'RAVC',\n",
    "    ravc_calc = False,\n",
    "    dir_current = '$HOME/Desktop/heeps_analysis',\n",
    "    dir_output = 'ravc_optim'\n",
    ")\n",
    "conf = heeps.config.read_config(verbose=False, **conf)\n",
    "conf = heeps.config.update_config(saveconf=True, verbose=True, **conf)\n",
    "wf = heeps.pupil.pupil(savefits=True, verbose=True, **conf)"
   ]
  },
  {
   "cell_type": "code",
   "execution_count": 8,
   "metadata": {},
   "outputs": [
    {
     "name": "stdout",
     "output_type": "stream",
     "text": [
      "0 0\n",
      "0 1\n",
      "0 2\n",
      "0 3\n",
      "0 4\n",
      "0 5\n",
      "0 6\n",
      "0 7\n",
      "0 8\n",
      "1 0\n",
      "1 1\n",
      "1 2\n",
      "1 3\n",
      "1 4\n",
      "1 5\n",
      "1 6\n",
      "1 7\n",
      "1 8\n",
      "2 0\n",
      "2 1\n",
      "2 2\n",
      "2 3\n",
      "2 4\n",
      "2 5\n",
      "2 6\n",
      "2 7\n",
      "2 8\n",
      "3 0\n",
      "3 1\n",
      "3 2\n",
      "3 3\n",
      "3 4\n",
      "3 5\n",
      "3 6\n",
      "3 7\n",
      "3 8\n",
      "4 0\n",
      "4 1\n",
      "4 2\n",
      "4 3\n",
      "4 4\n",
      "4 5\n",
      "4 6\n",
      "4 7\n",
      "4 8\n",
      "5 0\n",
      "5 1\n",
      "5 2\n",
      "5 3\n",
      "5 4\n",
      "5 5\n",
      "5 6\n",
      "5 7\n",
      "5 8\n",
      "6 0\n",
      "6 1\n",
      "6 2\n",
      "6 3\n",
      "6 4\n",
      "6 5\n",
      "6 6\n",
      "6 7\n",
      "6 8\n",
      "7 0\n",
      "7 1\n",
      "7 2\n",
      "7 3\n",
      "7 4\n",
      "7 5\n",
      "7 6\n",
      "7 7\n",
      "7 8\n",
      "8 0\n",
      "8 1\n",
      "8 2\n",
      "8 3\n",
      "8 4\n",
      "8 5\n",
      "8 6\n",
      "8 7\n",
      "8 8\n"
     ]
    }
   ],
   "source": [
    "rs = np.linspace(0.60, 0.64, 9) # centered on 0.64\n",
    "ts = np.linspace(0.74, 0.78, 9) # centered on 0.76\n",
    "rt = np.zeros((len(rs),len(ts)))\n",
    "for i,r in enumerate(rs):\n",
    "    for j,t in enumerate(ts):\n",
    "        print(i,j)\n",
    "        conf['ravc_r'] = r\n",
    "        conf['ravc_t'] = t\n",
    "        psf = heeps.wavefront.propagate_one(wf, tag='%s%s'%(i,j), onaxis=True, savefits=False, verbose=False, **conf)\n",
    "        rt[i,j] = np.sum(psf)"
   ]
  },
  {
   "cell_type": "code",
   "execution_count": 4,
   "metadata": {},
   "outputs": [
    {
     "data": {
      "text/plain": [
       "([<matplotlib.axis.YTick at 0x7fbdfb061400>,\n",
       "  <matplotlib.axis.YTick at 0x7fbdfb052cf8>,\n",
       "  <matplotlib.axis.YTick at 0x7fbdfa807e80>,\n",
       "  <matplotlib.axis.YTick at 0x7fbdb8091b38>,\n",
       "  <matplotlib.axis.YTick at 0x7fbdb80980f0>,\n",
       "  <matplotlib.axis.YTick at 0x7fbdb80919b0>,\n",
       "  <matplotlib.axis.YTick at 0x7fbdb8087320>,\n",
       "  <matplotlib.axis.YTick at 0x7fbdb8098518>,\n",
       "  <matplotlib.axis.YTick at 0x7fbdb8098a20>],\n",
       " <a list of 9 Text yticklabel objects>)"
      ]
     },
     "execution_count": 4,
     "metadata": {},
     "output_type": "execute_result"
    },
    {
     "data": {
      "image/png": "[encoded data removed]",
      "text/plain": [
       "<Figure size 432x288 with 1 Axes>"
      ]
     },
     "metadata": {
      "needs_background": "light"
     },
     "output_type": "display_data"
    }
   ],
   "source": [
    "import matplotlib.pyplot as plt\n",
    "plt.imshow(rt, origin='lower')\n",
    "plt.xticks(rs)\n",
    "plt.yticks(ts)"
   ]
  },
  {
   "cell_type": "code",
   "execution_count": 5,
   "metadata": {},
   "outputs": [
    {
     "data": {
      "text/plain": [
       "array([[0.00129249, 0.00129249, 0.00129249, 0.00129249, 0.00129249,\n",
       "        0.00129249, 0.00129249, 0.00129249, 0.00129249],\n",
       "       [0.00129249, 0.00129249, 0.00129249, 0.00129249, 0.00129249,\n",
       "        0.00129249, 0.00129249, 0.00129249, 0.00129249],\n",
       "       [0.00129249, 0.00129249, 0.00129249, 0.00129249, 0.00129249,\n",
       "        0.00129249, 0.00129249, 0.00129249, 0.00129249],\n",
       "       [0.00129249, 0.00129249, 0.00129249, 0.00129249, 0.00129249,\n",
       "        0.00129249, 0.00129249, 0.00129249, 0.00129249],\n",
       "       [0.00129249, 0.00129249, 0.00129249, 0.00129249, 0.00129249,\n",
       "        0.00129249, 0.00129249, 0.00129249, 0.00129249],\n",
       "       [0.00129249, 0.00129249, 0.00129249, 0.00129249, 0.00129249,\n",
       "        0.00129249, 0.00129249, 0.00129249, 0.00129249],\n",
       "       [0.00129249, 0.00129249, 0.00129249, 0.00129249, 0.00129249,\n",
       "        0.00129249, 0.00129249, 0.00129249, 0.00129249],\n",
       "       [0.00129249, 0.00129249, 0.00129249, 0.00129249, 0.00129249,\n",
       "        0.00129249, 0.00129249, 0.00129249, 0.00129249],\n",
       "       [0.00129249, 0.00129249, 0.00129249, 0.00129249, 0.00129249,\n",
       "        0.00129249, 0.00129249, 0.00129249, 0.00129249]])"
      ]
     },
     "execution_count": 5,
     "metadata": {},
     "output_type": "execute_result"
    }
   ],
   "source": [
    "rt"
   ]
  },
  {
   "cell_type": "code",
   "execution_count": null,
   "metadata": {},
   "outputs": [],
   "source": []
  }
 ],
 "metadata": {
  "kernelspec": {
   "display_name": "Python 3",
   "language": "python",
   "name": "python3"
  },
  "language_info": {
   "codemirror_mode": {
    "name": "ipython",
    "version": 3
   },
   "file_extension": ".py",
   "mimetype": "text/x-python",
   "name": "python",
   "nbconvert_exporter": "python",
   "pygments_lexer": "ipython3",
   "version": "3.7.0"
  }
 },
 "nbformat": 4,
 "nbformat_minor": 2
}
